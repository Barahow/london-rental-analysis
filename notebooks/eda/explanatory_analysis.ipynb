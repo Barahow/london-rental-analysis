{
 "cells": [
  {
   "cell_type": "markdown",
   "id": "dbd7d8c6",
   "metadata": {},
   "source": [
    "# Exploratory Data Analysis Plan for Inner London Rentals\n",
    "\n",
    "\n",
    "\n",
    "\n",
    "\n"
   ]
  },
  {
   "cell_type": "code",
   "execution_count": 2,
   "id": "8d3b113a",
   "metadata": {},
   "outputs": [],
   "source": [
    "import pandas as pd\n",
    "import numpy as np \n",
    "import matplotlib.pyplot as plt\n",
    "import seaborn as sns "
   ]
  },
  {
   "cell_type": "code",
   "execution_count": null,
   "id": "2643cf78",
   "metadata": {},
   "outputs": [
    {
     "ename": "NameError",
     "evalue": "name 'sns' is not defined",
     "output_type": "error",
     "traceback": [
      "\u001b[31m---------------------------------------------------------------------------\u001b[39m",
      "\u001b[31mNameError\u001b[39m                                 Traceback (most recent call last)",
      "\u001b[36mCell\u001b[39m\u001b[36m \u001b[39m\u001b[32mIn[1]\u001b[39m\u001b[32m, line 1\u001b[39m\n\u001b[32m----> \u001b[39m\u001b[32m1\u001b[39m \u001b[43msns\u001b[49m.set(style=\u001b[33m\"\u001b[39m\u001b[33mwhitegrid\u001b[39m\u001b[33m\"\u001b[39m)\n\u001b[32m      2\u001b[39m listing_df = pd.read_csv(\u001b[33m\"\u001b[39m\u001b[33m../data/list_new_clean.csv\u001b[39m\u001b[33m\"\u001b[39m)\n",
      "\u001b[31mNameError\u001b[39m: name 'sns' is not defined"
     ]
    }
   ],
   "source": [
    "employment_df = pd.read_csv('../data/employment_clean.csv')\n",
    "crime_df = pd.read_csv('../data/crime_rate_clean.csv')\n",
    "gcse_df = pd.read_csv(\"../data/gcse_clean.csv\")\n",
    "listings_df = pd.read_csv(\"../data/listings_combined.csv\")"
   ]
  },
  {
   "cell_type": "markdown",
   "id": "8a634763",
   "metadata": {},
   "source": [
    "## Distribution of rents, bedrooms, sizes"
   ]
  },
  {
   "cell_type": "markdown",
   "id": "dcf3d385",
   "metadata": {},
   "source": [
    "Analysis. Tail is stretched to the right -> right skewed distribution\n",
    "* Most tental prices are in the affordable-to-midrange \n",
    "* A few very expensive listings are influencing the average\n"
   ]
  },
  {
   "cell_type": "markdown",
   "id": "c6b35fc0",
   "metadata": {},
   "source": [
    "Majority of the listings fall under eiher at 1 to 2 bedrooms per listings. \n",
    "\n",
    "Size in square feet is not provided in our dataset, so rent per squire foot could not be calculated"
   ]
  },
  {
   "cell_type": "markdown",
   "id": "5786c052",
   "metadata": {},
   "source": [
    "## Time trends by date_listed"
   ]
  },
  {
   "cell_type": "markdown",
   "id": "e4808b09",
   "metadata": {},
   "source": [
    "The sharp drop you see from 02 to 03 has to do with only ahving 35 listings in february, and liekley having few high-end properties. In march the sample size jumps to 104 bringing in more mid range or low range properties. so the median corrects downward. \n",
    "\n",
    "This shows that february medians is artificially inflated due to limited data and likely atypical listings. \n",
    "\n",
    "Data after march is solid. High volume and smother trends\n",
    "\n",
    "\n",
    "Count per months \n",
    "* date_listed     | count\n",
    "* 2025-01-31      29\n",
    "* 2025-02-28      35\n",
    "* 2025-03-31     104\n",
    "* 2025-04-30     189\n",
    "* 2025-05-31     584\n",
    "* 2025-06-30    2364"
   ]
  }
 ],
 "metadata": {
  "kernelspec": {
   "display_name": ".venv",
   "language": "python",
   "name": "python3"
  },
  "language_info": {
   "codemirror_mode": {
    "name": "ipython",
    "version": 3
   },
   "file_extension": ".py",
   "mimetype": "text/x-python",
   "name": "python",
   "nbconvert_exporter": "python",
   "pygments_lexer": "ipython3",
   "version": "3.13.3"
  }
 },
 "nbformat": 4,
 "nbformat_minor": 5
}
