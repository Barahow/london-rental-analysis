{
 "cells": [
  {
   "cell_type": "markdown",
   "id": "7da5b787",
   "metadata": {},
   "source": [
    "### Clean Income Data."
   ]
  },
  {
   "cell_type": "code",
   "execution_count": 23,
   "id": "0f318472",
   "metadata": {},
   "outputs": [
    {
     "name": "stdout",
     "output_type": "stream",
     "text": [
      "head                    borough  year  median_income\n",
      "0                   Camden  2024          766.6\n",
      "1                   Ealing  2024          684.8\n",
      "2                  Hackney  2024          762.5\n",
      "3   Hammersmith and Fulham  2024          798.5\n",
      "4                 Haringey  2024          727.8\n",
      "5                Islington  2024          811.2\n",
      "6   Kensington and Chelsea  2024          810.1\n",
      "7                  Lambeth  2024          797.4\n",
      "8                 Lewisham  2024          706.4\n",
      "9                   Newham  2024          635.9\n",
      "10               Southwark  2024          788.6\n",
      "11           Tower Hamlets  2024          766.5\n",
      "12              Wandsworth  2024          843.3\n",
      "13             Westminster  2024          843.3\n",
      "14          City of London  2024          853.4\n"
     ]
    }
   ],
   "source": [
    "import pandas as pd \n",
    "import numpy as np \n",
    "\n",
    "# load boroughs and their postcodes\n",
    "income_df = pd.read_csv(\"../data/income_by_borough.csv\")  \n",
    "\n",
    "\n",
    "print(f\"head {income_df.head(15)}\")"
   ]
  },
  {
   "cell_type": "markdown",
   "id": "4d2ea499",
   "metadata": {},
   "source": [
    "## Chunk 1: schema & Data types "
   ]
  },
  {
   "cell_type": "code",
   "execution_count": 19,
   "id": "edeea52f",
   "metadata": {},
   "outputs": [
    {
     "name": "stdout",
     "output_type": "stream",
     "text": [
      "\n",
      ">> income_df.info()\n",
      "<class 'pandas.core.frame.DataFrame'>\n",
      "RangeIndex: 15 entries, 0 to 14\n",
      "Data columns (total 3 columns):\n",
      " #   Column         Non-Null Count  Dtype  \n",
      "---  ------         --------------  -----  \n",
      " 0   borough        15 non-null     object \n",
      " 1   year           15 non-null     int64  \n",
      " 2   median_income  15 non-null     float64\n",
      "dtypes: float64(1), int64(1), object(1)\n",
      "memory usage: 492.0+ bytes\n",
      "types: borough           object\n",
      "year               int64\n",
      "median_income    float64\n",
      "dtype: object\n"
     ]
    }
   ],
   "source": [
    "print(\"\\n>> income_df.info()\")\n",
    "income_df.info()\n",
    "\n",
    "income_df['borough'] = income_df['borough'].str.title()\n",
    "\n",
    "\n",
    "\n",
    "print(f\"types: {income_df.dtypes}\")"
   ]
  },
  {
   "cell_type": "code",
   "execution_count": 21,
   "id": "52584dd0",
   "metadata": {},
   "outputs": [
    {
     "name": "stdout",
     "output_type": "stream",
     "text": [
      "                   borough  year  median_income\n",
      "0                   Camden  2024          766.6\n",
      "1                   Ealing  2024          684.8\n",
      "2                  Hackney  2024          762.5\n",
      "3   Hammersmith And Fulham  2024          798.5\n",
      "4                 Haringey  2024          727.8\n",
      "5                Islington  2024          811.2\n",
      "6   Kensington And Chelsea  2024          810.1\n",
      "7                  Lambeth  2024          797.4\n",
      "8                 Lewisham  2024          706.4\n",
      "9                   Newham  2024          635.9\n",
      "10               Southwark  2024          788.6\n",
      "11           Tower Hamlets  2024          766.5\n",
      "12              Wandsworth  2024          843.3\n",
      "13             Westminster  2024          843.3\n",
      "14          City Of London  2024          853.4\n"
     ]
    }
   ],
   "source": [
    "print(income_df.head(15))"
   ]
  },
  {
   "cell_type": "code",
   "execution_count": 22,
   "id": "7bf20142",
   "metadata": {},
   "outputs": [],
   "source": [
    "income_df.to_csv('income_by_borough_clean.csv')"
   ]
  },
  {
   "cell_type": "code",
   "execution_count": null,
   "id": "478c454f",
   "metadata": {},
   "outputs": [],
   "source": []
  },
  {
   "cell_type": "code",
   "execution_count": null,
   "id": "4272620f",
   "metadata": {},
   "outputs": [],
   "source": []
  }
 ],
 "metadata": {
  "kernelspec": {
   "display_name": ".venv",
   "language": "python",
   "name": "python3"
  },
  "language_info": {
   "codemirror_mode": {
    "name": "ipython",
    "version": 3
   },
   "file_extension": ".py",
   "mimetype": "text/x-python",
   "name": "python",
   "nbconvert_exporter": "python",
   "pygments_lexer": "ipython3",
   "version": "3.13.3"
  }
 },
 "nbformat": 4,
 "nbformat_minor": 5
}
