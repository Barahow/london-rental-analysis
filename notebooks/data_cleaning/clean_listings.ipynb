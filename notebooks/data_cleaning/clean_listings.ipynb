{
 "cells": [
  {
   "cell_type": "markdown",
   "id": "e835acbb",
   "metadata": {},
   "source": [
    "## Data cleaning the listings data.\n"
   ]
  },
  {
   "cell_type": "code",
   "execution_count": 20,
   "id": "c40d97a8",
   "metadata": {},
   "outputs": [
    {
     "name": "stdout",
     "output_type": "stream",
     "text": [
      "          id date_listed  bedrooms  bathrooms  \\\n",
      "0  163439072  2025-06-17         0        NaN   \n",
      "1  163629194  2025-06-21         1        1.0   \n",
      "2  163629197  2025-06-21         3        2.0   \n",
      "3  163629167  2025-06-21         2        1.0   \n",
      "4  162040442  2025-05-16         2        1.0   \n",
      "\n",
      "                                             summary  \\\n",
      "0  base rent: £1100, deposit: £1269.23, number of...   \n",
      "1  LONG LET. Arranged on the 3rd floor, this eleg...   \n",
      "2  LONG LET. Set within a modern residential deve...   \n",
      "3  A TWO bedroom FIRST FLOOR FLAT located within ...   \n",
      "4  Located in the quiet a tree lined road in the ...   \n",
      "\n",
      "                                     address property_type  price_amount  \\\n",
      "0                     Flat 4 27 Seaford Road        Studio          1100   \n",
      "1    Belsize Park, Belsize Park, London, NW3          Flat          2578   \n",
      "2  Wilkinson Close, Cricklewood, London, NW2          Flat          2350   \n",
      "3      Crawley Road, Enfield, Middlesex, EN1          Flat          1800   \n",
      "4                      Grange Avenue, London          Flat          1650   \n",
      "\n",
      "  price_frequency   latitude  longitude     description  \\\n",
      "0         monthly  51.508900  -0.321970     Studio flat   \n",
      "1         monthly  51.546909  -0.160016  1 bedroom flat   \n",
      "2         monthly  51.565032  -0.223419  3 bedroom flat   \n",
      "3         monthly  51.635016  -0.073420  2 bedroom flat   \n",
      "4         monthly  51.615379  -0.180626  2 bedroom flat   \n",
      "\n",
      "                              property_url borough postcode  page  \n",
      "0  /properties/163439072#/?channel=RES_LET  Camden  NW1 2HP     9  \n",
      "1  /properties/163629194#/?channel=RES_LET  Camden  NW1 2HP     9  \n",
      "2  /properties/163629197#/?channel=RES_LET  Camden  NW1 2HP     9  \n",
      "3  /properties/163629167#/?channel=RES_LET  Camden  NW1 2HP     9  \n",
      "4  /properties/162040442#/?channel=RES_LET  Camden  NW1 2HP     9  \n"
     ]
    }
   ],
   "source": [
    "import pandas as pd \n",
    "import numpy as np \n",
    "\n",
    "# load boroughs and their postcodes\n",
    "listings_df = pd.read_csv(\"../data/lisings_new.csv\")  # Replace with your actual filename\n",
    "\n",
    "\n",
    "print(listings_df.head())\n",
    "\n"
   ]
  },
  {
   "cell_type": "markdown",
   "id": "b57a8ab4",
   "metadata": {},
   "source": [
    "## Chunk 1: schema & Data types "
   ]
  },
  {
   "cell_type": "code",
   "execution_count": 48,
   "id": "ac21332d",
   "metadata": {},
   "outputs": [
    {
     "name": "stdout",
     "output_type": "stream",
     "text": [
      "\n",
      ">> listing_df.info()\n",
      "<class 'pandas.core.frame.DataFrame'>\n",
      "Index: 3307 entries, 0 to 3421\n",
      "Data columns (total 16 columns):\n",
      " #   Column           Non-Null Count  Dtype         \n",
      "---  ------           --------------  -----         \n",
      " 0   id               3307 non-null   int64         \n",
      " 1   date_listed      3307 non-null   datetime64[ns]\n",
      " 2   bedrooms         3307 non-null   int64         \n",
      " 3   bathrooms        3307 non-null   int64         \n",
      " 4   summary          3307 non-null   object        \n",
      " 5   address          3307 non-null   object        \n",
      " 6   property_type    3307 non-null   object        \n",
      " 7   price_amount     3307 non-null   float64       \n",
      " 8   price_frequency  3307 non-null   object        \n",
      " 9   latitude         3307 non-null   float64       \n",
      " 10  longitude        3307 non-null   float64       \n",
      " 11  description      3307 non-null   object        \n",
      " 12  property_url     3307 non-null   object        \n",
      " 13  borough          3307 non-null   object        \n",
      " 14  postcode         3307 non-null   object        \n",
      " 15  page             3307 non-null   int64         \n",
      "dtypes: datetime64[ns](1), float64(3), int64(4), object(8)\n",
      "memory usage: 439.2+ KB\n",
      " Types id                          int64\n",
      "date_listed        datetime64[ns]\n",
      "bedrooms                    int64\n",
      "bathrooms                   int64\n",
      "summary                    object\n",
      "address                    object\n",
      "property_type              object\n",
      "price_amount              float64\n",
      "price_frequency            object\n",
      "latitude                  float64\n",
      "longitude                 float64\n",
      "description                object\n",
      "property_url               object\n",
      "borough                    object\n",
      "postcode                   object\n",
      "page                        int64\n",
      "dtype: object\n",
      "id                 0\n",
      "date_listed        0\n",
      "bedrooms           0\n",
      "bathrooms          0\n",
      "summary            0\n",
      "address            0\n",
      "property_type      0\n",
      "price_amount       0\n",
      "price_frequency    0\n",
      "latitude           0\n",
      "longitude          0\n",
      "description        0\n",
      "property_url       0\n",
      "borough            0\n",
      "postcode           0\n",
      "page               0\n",
      "dtype: int64\n"
     ]
    }
   ],
   "source": [
    "# inspec the current schema and types \n",
    "print(\"\\n>> listing_df.info()\")\n",
    "\n",
    "\n",
    "#Convert date_listed to datetime \n",
    "listings_df['date_listed'] = pd.to_datetime(listings_df['date_listed'],errors=\"coerce\")\n",
    "#listings_df.info()\n",
    "\n",
    "\n",
    "\n",
    "## insure numeric columns are the right dtype\n",
    "for col in [\"bedrooms\",\"bathrooms\",\"price_amount\",\"price_amount\",\"latitude\",\"longitude\",\"page\"]:\n",
    "    listings_df[col] = pd.to_numeric(listings_df[col],errors=\"coerce\")\n",
    "\n",
    "listings_df['price_amount']= listings_df['price_amount'].astype(float)\n",
    "listings_df['bathrooms']= listings_df['bathrooms'].astype(int)\n",
    "\n",
    "for col in [\"address\",\"description\",\"borough\",\"property_url\",\"postcode\",\"price_frequency\",\"summary\",\"property_type\"]:\n",
    "    listings_df[col]= listings_df[col].astype(str)\n",
    "\n",
    "\n",
    "listings_df.info()\n",
    "\n",
    "print(f\" Types {listings_df.dtypes}\")\n",
    "\n",
    "print(listings_df.isna().sum())\n",
    "\n"
   ]
  },
  {
   "cell_type": "code",
   "execution_count": 49,
   "id": "8f0e390a",
   "metadata": {},
   "outputs": [
    {
     "name": "stdout",
     "output_type": "stream",
     "text": [
      "id                          int64\n",
      "date_listed        datetime64[ns]\n",
      "bedrooms                    int64\n",
      "bathrooms                   int64\n",
      "summary                    object\n",
      "address                    object\n",
      "property_type              object\n",
      "price_amount              float64\n",
      "price_frequency            object\n",
      "latitude                  float64\n",
      "longitude                 float64\n",
      "description                object\n",
      "property_url               object\n",
      "borough                    object\n",
      "postcode                   object\n",
      "page                        int64\n",
      "dtype: object\n"
     ]
    }
   ],
   "source": [
    "print(listings_df.dtypes)\n",
    "\n"
   ]
  },
  {
   "cell_type": "markdown",
   "id": "81bee857",
   "metadata": {},
   "source": [
    "### 2. Handle string naming conventions and trailing spaces\n"
   ]
  },
  {
   "cell_type": "code",
   "execution_count": 54,
   "id": "07dd7fd2",
   "metadata": {},
   "outputs": [],
   "source": [
    "for col in [\"address\",\"description\",\"borough\",\"property_url\",\"postcode\",\"price_frequency\",\"summary\",\"property_type\"]:\n",
    "    ## Remove leading / trailing white spaces and replace multiple spaces with single space\n",
    "    listings_df[col]= listings_df[col].str.strip().str.replace(r'\\s+',' ',regex=True)\n",
    "\n",
    "\n",
    "    ## standardixe casing. \n",
    "    #will use title case (Camden Town)\n",
    "    listings_df[col]= listings_df[col].str.title()\n",
    "\n",
    "listings_df['postcode']= listings_df['postcode'].str.upper().str.strip()\n",
    "listings_df['property_url'] = listings_df['property_url'].str.lower().str.strip().str.rstrip('/')\n",
    "\n",
    "\n"
   ]
  },
  {
   "cell_type": "code",
   "execution_count": null,
   "id": "95ace3d2",
   "metadata": {},
   "outputs": [
    {
     "name": "stdout",
     "output_type": "stream",
     "text": [
      "\n",
      ">> Missing values after cleaning:\n",
      "id                  0\n",
      "date_listed        68\n",
      "bedrooms            0\n",
      "bathrooms          83\n",
      "summary             0\n",
      "address             0\n",
      "property_type       0\n",
      "price_amount        0\n",
      "price_frequency     0\n",
      "latitude            0\n",
      "longitude           0\n",
      "description         0\n",
      "property_url        0\n",
      "borough             0\n",
      "postcode            0\n",
      "page                0\n",
      "dtype: int64\n",
      "\n",
      " Missing Bathroms property type property_type\n",
      "Flat             31\n",
      "Studio           15\n",
      "Apartment        15\n",
      "Flat Share        2\n",
      "Ground Flat       2\n",
      "Not Specified     1\n",
      "Duplex            1\n",
      "Terraced          1\n",
      "Detached          1\n",
      "Name: count, dtype: int64\n"
     ]
    }
   ],
   "source": [
    "## find missing values in the whole tables \n",
    "print(\"\\n>> Missing values after cleaning:\")\n",
    "\n",
    "#listings_df['bathrooms']= listings_df['bathrooms'].fillna(0)\n",
    "print(listings_df.isna().sum())\n",
    "\n",
    "## listing_date is critical for our analysis \n",
    "## so drop any nan values \n",
    "listings_df= listings_df.dropna(subset='date_listed')\n",
    "missing_bathrooms = listings_df[listings_df[\"bathrooms\"].isna()]\n",
    "\n",
    "\n",
    "\n",
    "\n",
    "#print(\"Missing bathrooms by bedroom count:\")\n",
    "#print(missing_bathrooms[\"bedrooms\"].value_counts())\n",
    "## We need to check if the missing bathrooms corresponds to studio apartment \n",
    "print(f\"\\n Missing Bathroms property type {missing_bathrooms[\"property_type\"].value_counts()}\")\n",
    "\n"
   ]
  },
  {
   "cell_type": "code",
   "execution_count": 29,
   "id": "7ec07a95",
   "metadata": {},
   "outputs": [
    {
     "name": "stdout",
     "output_type": "stream",
     "text": [
      "id                  0\n",
      "date_listed         0\n",
      "bedrooms            0\n",
      "bathrooms          69\n",
      "summary             0\n",
      "address             0\n",
      "property_type       0\n",
      "price_amount        0\n",
      "price_frequency     0\n",
      "latitude            0\n",
      "longitude           0\n",
      "description         0\n",
      "property_url        0\n",
      "borough             0\n",
      "postcode            0\n",
      "page                0\n",
      "dtype: int64\n",
      "Count: 3361\n"
     ]
    }
   ],
   "source": [
    "print(listings_df.isna().sum())\n",
    "print(f\"Count: {listings_df['id'].count()}\")"
   ]
  },
  {
   "cell_type": "markdown",
   "id": "bb08be92",
   "metadata": {},
   "source": [
    " ## 2.Missing Data Analysis\n",
    "* MCAR (Missing Completely At Random)\n",
    "* MAR (Missing At Random)\n",
    "* MNAR (Missing Not At Random)"
   ]
  },
  {
   "cell_type": "code",
   "execution_count": 34,
   "id": "839eef68",
   "metadata": {},
   "outputs": [
    {
     "name": "stdout",
     "output_type": "stream",
     "text": [
      "                    count      mean       std  min  25%  50%  75%  max\n",
      "bathrooms_missing                                                     \n",
      "False              3292.0  1.882139  1.224468  0.0  1.0  2.0  2.0  8.0\n",
      "True                 69.0  1.304348  1.252108  0.0  0.0  1.0  2.0  8.0\n",
      "                               Overall  Missing Bathrooms\n",
      "property_type                                            \n",
      "Apartment                     0.389170           0.217391\n",
      "Block of Apartments           0.000298           0.000000\n",
      "Character Property            0.000298           0.000000\n",
      "Cottage                       0.000298           0.000000\n",
      "Detached                      0.010414           0.014493\n",
      "Duplex                        0.003273           0.014493\n",
      "End of Terrace                0.007438           0.000000\n",
      "Flat                          0.391253           0.449275\n",
      "Flat Share                    0.006546           0.028986\n",
      "Ground Flat                   0.004760           0.028986\n",
      "House                         0.028265           0.000000\n",
      "House Boat                    0.000298           0.000000\n",
      "House Share                   0.013984           0.000000\n",
      "House of Multiple Occupation  0.000595           0.000000\n",
      "Maisonette                    0.012794           0.000000\n",
      "Mews                          0.002678           0.000000\n",
      "Not Specified                 0.008033           0.014493\n",
      "Parking                       0.000893           0.000000\n",
      "Penthouse                     0.008926           0.000000\n",
      "Semi-Detached                 0.016067           0.000000\n",
      "Semi-Detached Bungalow        0.000298           0.000000\n",
      "Serviced Apartments           0.000893           0.000000\n",
      "Studio                        0.052068           0.217391\n",
      "Terraced                      0.037786           0.014493\n",
      "Town House                    0.002380           0.000000\n",
      "Triplex                       0.000298           0.000000\n"
     ]
    }
   ],
   "source": [
    "## create a boolean column markign missing bathrooms \n",
    "\n",
    "listings_df[\"bathrooms_missing\"]= listings_df['bathrooms'].isna()\n",
    "\n",
    "#Check if missingness correlates with bedrooms\n",
    "print(listings_df.groupby(\"bathrooms_missing\")[\"bedrooms\"].describe())\n",
    "## no correlations \n",
    "\n",
    "# Check if missingness correlates with property_type\n",
    "\n",
    "\n",
    "# Get overall property_type distribution (percentages)\n",
    "overall_dist = listings_df['property_type'].value_counts(normalize=True)\n",
    "\n",
    "# Get property_type distribution within missing bathrooms\n",
    "missing_dist = listings_df[listings_df['bathrooms'].isna()]['property_type'].value_counts(normalize=True)\n",
    "\n",
    "# Combine into a dataframe for comparison\n",
    "missingness_comparison = pd.DataFrame({'Overall': overall_dist, 'Missing Bathrooms': missing_dist}).fillna(0)\n",
    "\n",
    "print(missingness_comparison)\n"
   ]
  },
  {
   "cell_type": "code",
   "execution_count": 39,
   "id": "71f703a1",
   "metadata": {},
   "outputs": [
    {
     "name": "stdout",
     "output_type": "stream",
     "text": [
      "id                 0\n",
      "date_listed        0\n",
      "bedrooms           0\n",
      "bathrooms          0\n",
      "summary            0\n",
      "address            0\n",
      "property_type      0\n",
      "price_amount       0\n",
      "price_frequency    0\n",
      "latitude           0\n",
      "longitude          0\n",
      "description        0\n",
      "property_url       0\n",
      "borough            0\n",
      "postcode           0\n",
      "page               0\n",
      "dtype: int64\n"
     ]
    }
   ],
   "source": [
    "## based on the analysis the Studios make up about 5% of all listings but 21.7% of the missing bathrooms. \n",
    "# This strong overrepresentation suggests that most missing bathroom values are from studios.\n",
    "## So, we can fill nans for studios with 0 and drop the rest \n",
    "listings_df.loc[(listings_df['bathrooms'].isna()) & (listings_df['property_type']=='Studio'),'bathrooms' ]=0\n",
    "listings_df=listings_df.dropna(subset=['bathrooms'])\n",
    "listings_df= listings_df.drop(columns=['bathrooms_missing'])\n",
    "\n",
    "print(listings_df.isna().sum())"
   ]
  },
  {
   "cell_type": "code",
   "execution_count": 56,
   "id": "fea300d2",
   "metadata": {},
   "outputs": [
    {
     "name": "stdout",
     "output_type": "stream",
     "text": [
      "          id date_listed  bedrooms  bathrooms  \\\n",
      "0  163439072  2025-06-17         0          0   \n",
      "1  163629194  2025-06-21         1          1   \n",
      "\n",
      "                                             summary  \\\n",
      "0  Base Rent: £1100, Deposit: £1269.23, Number Of...   \n",
      "1  Long Let. Arranged On The 3Rd Floor, This Eleg...   \n",
      "\n",
      "                                   address property_type  price_amount  \\\n",
      "0                   Flat 4 27 Seaford Road        Studio        1100.0   \n",
      "1  Belsize Park, Belsize Park, London, Nw3          Flat        2578.0   \n",
      "\n",
      "  price_frequency   latitude  longitude     description  \\\n",
      "0         Monthly  51.508900  -0.321970     Studio Flat   \n",
      "1         Monthly  51.546909  -0.160016  1 Bedroom Flat   \n",
      "\n",
      "                              property_url borough postcode  page  \n",
      "0  /properties/163439072#/?channel=res_let  Camden  NW1 2HP     9  \n",
      "1  /properties/163629194#/?channel=res_let  Camden  NW1 2HP     9  \n"
     ]
    }
   ],
   "source": [
    "print(listings_df.head(2))"
   ]
  },
  {
   "cell_type": "code",
   "execution_count": 57,
   "id": "54833de0",
   "metadata": {},
   "outputs": [],
   "source": [
    "listings_df.to_csv('list_new_clean.csv',index=False)"
   ]
  }
 ],
 "metadata": {
  "kernelspec": {
   "display_name": ".venv",
   "language": "python",
   "name": "python3"
  },
  "language_info": {
   "codemirror_mode": {
    "name": "ipython",
    "version": 3
   },
   "file_extension": ".py",
   "mimetype": "text/x-python",
   "name": "python",
   "nbconvert_exporter": "python",
   "pygments_lexer": "ipython3",
   "version": "3.13.3"
  }
 },
 "nbformat": 4,
 "nbformat_minor": 5
}
