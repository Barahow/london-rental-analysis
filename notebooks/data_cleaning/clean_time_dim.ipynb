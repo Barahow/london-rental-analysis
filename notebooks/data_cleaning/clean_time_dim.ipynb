{
 "cells": [
  {
   "cell_type": "markdown",
   "id": "e1974931",
   "metadata": {},
   "source": [
    "### Clean Time_dim "
   ]
  },
  {
   "cell_type": "code",
   "execution_count": 3,
   "id": "9d5deddb",
   "metadata": {},
   "outputs": [
    {
     "name": "stdout",
     "output_type": "stream",
     "text": [
      "         date  year  month  quarter day_of_week\n",
      "0  2024-12-25  2024     12        4   Wednesday\n",
      "1  2024-12-26  2024     12        4    Thursday\n",
      "2  2024-12-27  2024     12        4      Friday\n",
      "3  2024-12-28  2024     12        4    Saturday\n",
      "4  2024-12-29  2024     12        4      Sunday\n"
     ]
    }
   ],
   "source": [
    "import pandas as pd\n",
    "time_dim_df = pd.read_csv(\"../data/time_dim.csv\")\n",
    "listing_new_df = pd.read_csv(\"../data/list_new_clean.csv\")\n",
    "print(time_dim_df.head())"
   ]
  },
  {
   "cell_type": "markdown",
   "id": "ebc07c64",
   "metadata": {},
   "source": [
    "## Chunk 1: schema & Data types "
   ]
  },
  {
   "cell_type": "code",
   "execution_count": 8,
   "id": "712171d3",
   "metadata": {},
   "outputs": [],
   "source": [
    "\n",
    "time_dim_df['date']= pd.to_datetime(time_dim_df['date'],errors='coerce')\n",
    "time_dim_df['day_of_week']= time_dim_df['day_of_week'].astype(str)"
   ]
  },
  {
   "cell_type": "code",
   "execution_count": null,
   "id": "09061b9b",
   "metadata": {},
   "outputs": [
    {
     "name": "stdout",
     "output_type": "stream",
     "text": [
      "Missing dates count: 137\n",
      "['2025-06-17' '2025-06-21' '2025-05-16' '2025-05-30' '2025-06-03'\n",
      " '2025-06-10' '2025-04-11' '2025-06-19' '2025-06-05' '2025-04-29'\n",
      " '2025-06-02' '2025-05-28' '2025-06-13' '2025-03-31' '2025-05-20'\n",
      " '2025-05-08' '2025-06-20' '2025-03-28' '2025-01-06' '2025-06-12'\n",
      " '2025-05-21' '2025-05-07' '2025-05-14' '2025-04-10' '2025-04-25'\n",
      " '2025-04-17' '2025-06-11' '2025-05-23' '2025-05-13' '2025-05-09'\n",
      " '2025-06-18' '2025-05-26' '2025-06-07' '2025-03-10' '2025-04-07'\n",
      " '2025-06-16' '2025-06-09' '2025-05-27' '2025-05-12' '2025-05-06'\n",
      " '2025-03-22' '2025-06-14' '2025-06-04' '2025-05-01' '2025-06-06'\n",
      " '2025-04-02' '2025-04-24' '2025-03-20' '2025-04-01' '2025-05-10'\n",
      " '2025-05-19' '2025-06-15' '2025-05-29' '2025-02-14' '2025-05-22'\n",
      " '2025-05-11' '2025-03-26' '2025-03-29' '2025-04-26' '2025-03-07'\n",
      " '2025-03-14' '2025-03-04' '2025-05-24' '2025-05-17' '2025-03-19'\n",
      " '2025-02-04' '2025-01-20' '2025-01-03' '2025-06-01' '2025-05-15'\n",
      " '2025-04-09' '2025-05-02' '2025-06-08' '2025-03-13' '2025-03-06'\n",
      " '2025-03-30' '2025-03-25' '2025-02-24' '2025-04-18' '2025-03-21'\n",
      " '2025-02-12' '2025-02-15' '2025-01-24' '2025-04-03' '2025-04-28'\n",
      " '2025-01-29' '2025-04-23' '2025-04-12' '2025-04-30' '2025-04-16'\n",
      " '2025-04-08' '2025-04-04' '2025-03-05' '2025-02-25' '2025-04-14'\n",
      " '2025-01-27' '2025-04-22' '2025-02-10' '2025-03-12' '2025-02-18'\n",
      " '2025-03-18' '2025-01-28' '2025-02-05' '2025-05-31' '2025-03-17'\n",
      " '2025-04-15' '2025-03-11' '2025-02-27' '2025-02-26' '2025-05-18'\n",
      " '2025-04-19' '2025-03-03' '2025-01-30' '2025-01-08' '2025-01-25'\n",
      " '2025-04-27' '2025-02-13' '2025-05-03' '2025-05-05' '2025-02-19'\n",
      " '2025-01-21' '2025-02-07' '2025-03-27' '2025-02-03' '2024-12-26'\n",
      " '2024-12-24' '2025-01-22' '2025-03-24' '2025-01-10' '2025-01-09'\n",
      " '2025-01-23' '2025-01-31' '2025-02-17' '2025-01-17' '2025-02-21'\n",
      " '2025-02-08' '2025-02-11']\n"
     ]
    }
   ],
   "source": [
    "missing_dates = listing_new_df[~listing_new_df['date_listed'].isin(time_dim_df['date'])]\n",
    "print(\"Missing dates count:\", missing_dates['date_listed'].nunique())\n",
    "\n",
    "### Find missing dates in listings that dont how up in our time_dim\n",
    "missing_dates = listing_new_df[~listing_new_df['date_listed'].isin(time_dim_df['date'])]['date_listed'].unique()\n",
    "print(missing_dates)\n",
    "\n",
    "\n"
   ]
  },
  {
   "cell_type": "code",
   "execution_count": null,
   "id": "6373b11a",
   "metadata": {},
   "outputs": [
    {
     "name": "stdout",
     "output_type": "stream",
     "text": [
      "Missing dates count after update: 0\n"
     ]
    }
   ],
   "source": [
    "# Step 1: Find missing unique dates relative to old time_dim_df\n",
    "missing_dates = listing_new_df[~listing_new_df['date_listed'].isin(time_dim_df['date'])]['date_listed'].dropna().unique()\n",
    "missing_dates = pd.to_datetime(missing_dates)\n",
    "listing_new_df['date_listed']= pd.to_datetime(listing_new_df['date_listed'])\n",
    "\n",
    "\n",
    "\n",
    "\n",
    "\n",
    "# Step 2: Create rows for missing dates\n",
    "new_time_rows = pd.DataFrame({\n",
    "    'date': missing_dates,\n",
    "    'year': missing_dates.year,\n",
    "    'month': missing_dates.month,\n",
    "    'quarter': missing_dates.quarter,\n",
    "    'day_of_week': missing_dates.day_name()\n",
    "})\n",
    "\n",
    "# Step 3: Append to existing time dimension\n",
    "time_dim_updated = pd.concat([time_dim_df, new_time_rows], ignore_index=True)\n",
    "\n",
    "# Step 4: Drop duplicate dates\n",
    "time_dim_updated = time_dim_updated.drop_duplicates(subset=['date'])\n",
    "\n",
    "# Step 5: Check missing dates again\n",
    "still_missing = listing_new_df[~listing_new_df['date_listed'].isin(time_dim_updated['date'])]['date_listed'].dropna().unique()\n",
    "\n",
    "print(\"Missing dates count after update:\", len(still_missing))"
   ]
  },
  {
   "cell_type": "code",
   "execution_count": 28,
   "id": "0e64f574",
   "metadata": {},
   "outputs": [
    {
     "name": "stdout",
     "output_type": "stream",
     "text": [
      "Remaining listings after filtering: 3305\n",
      "Remaining listings after filtering: 174\n",
      "Missing dates count after update: 0\n"
     ]
    }
   ],
   "source": [
    "## Cut off point 6 months \n",
    "cutoff_date = pd.to_datetime(\"2025-01-01\")\n",
    "\n",
    "# Filter listings_df to only keep rows where date_listed >= cutoff_date\n",
    "listing_new_df = listing_new_df[listing_new_df['date_listed'] >= cutoff_date].copy()\n",
    "time_dim_updated= time_dim_updated[time_dim_updated['date']>= cutoff_date].copy()\n",
    "\n",
    "print(f\"Remaining listings after filtering: {len(listing_new_df)}\")\n",
    "print(f\"Remaining listings after filtering: {len(time_dim_updated)}\")\n",
    "still_missing = listing_new_df[~listing_new_df['date_listed'].isin(time_dim_updated['date'])]['date_listed'].dropna().unique()\n",
    "\n",
    "print(\"Missing dates count after update:\", len(still_missing))"
   ]
  },
  {
   "cell_type": "code",
   "execution_count": 29,
   "id": "d5da3a1e",
   "metadata": {},
   "outputs": [],
   "source": [
    "time_dim_updated.to_csv(\"time_dim_clean.csv\",index=False)\n",
    "listing_new_df.to_csv(\"list_new_clean.csv\",index=False)"
   ]
  },
  {
   "cell_type": "markdown",
   "id": "e1b5d728",
   "metadata": {},
   "source": [
    "Edit"
   ]
  }
 ],
 "metadata": {
  "kernelspec": {
   "display_name": ".venv",
   "language": "python",
   "name": "python3"
  },
  "language_info": {
   "codemirror_mode": {
    "name": "ipython",
    "version": 3
   },
   "file_extension": ".py",
   "mimetype": "text/x-python",
   "name": "python",
   "nbconvert_exporter": "python",
   "pygments_lexer": "ipython3",
   "version": "3.13.3"
  }
 },
 "nbformat": 4,
 "nbformat_minor": 5
}
