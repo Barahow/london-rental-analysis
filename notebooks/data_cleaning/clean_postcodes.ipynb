{
 "cells": [
  {
   "cell_type": "markdown",
   "id": "c4a36590",
   "metadata": {},
   "source": [
    "### Clean postcodes "
   ]
  },
  {
   "cell_type": "code",
   "execution_count": 2,
   "id": "d19440e8",
   "metadata": {},
   "outputs": [
    {
     "name": "stdout",
     "output_type": "stream",
     "text": [
      "       pcd     ward   borough\n",
      "0  BR1 4BY  Downham  Lewisham\n",
      "1  BR1 4DN  Downham  Lewisham\n",
      "2  BR1 4EY  Downham  Lewisham\n",
      "3  BR1 4FD  Downham  Lewisham\n",
      "4  BR1 4JG  Downham  Lewisham\n"
     ]
    }
   ],
   "source": [
    "import pandas as pd \n",
    "import numpy as np\n",
    "\n",
    "postcodes_df = pd.read_csv(\"../data/postcodes_lookup.csv\")\n",
    "\n",
    "print(postcodes_df.head())"
   ]
  },
  {
   "cell_type": "markdown",
   "id": "5d8e44a0",
   "metadata": {},
   "source": [
    "## Chunk 1: schema & Data types.\n"
   ]
  },
  {
   "cell_type": "markdown",
   "id": "82bb19eb",
   "metadata": {},
   "source": []
  },
  {
   "cell_type": "code",
   "execution_count": 4,
   "id": "e62102cc",
   "metadata": {},
   "outputs": [
    {
     "name": "stdout",
     "output_type": "stream",
     "text": [
      "pcd        object\n",
      "ward       object\n",
      "borough    object\n",
      "dtype: object\n"
     ]
    }
   ],
   "source": [
    "print(postcodes_df.dtypes)\n",
    "postcodes_df['pcd'] = postcodes_df['pcd'].astype(str)\n",
    "postcodes_df['ward'] = postcodes_df['ward'].astype(str)\n",
    "postcodes_df['borough'] = postcodes_df['borough'].astype(str)"
   ]
  },
  {
   "cell_type": "code",
   "execution_count": 5,
   "id": "21e8cf5a",
   "metadata": {},
   "outputs": [],
   "source": [
    "postcodes_df['borough'] = postcodes_df['borough'].str.title()\n",
    "postcodes_df['pcd'] = postcodes_df['pcd'].str.upper().str.strip()\n",
    "postcodes_df['ward'] = postcodes_df['ward'].str.title()"
   ]
  },
  {
   "cell_type": "code",
   "execution_count": 7,
   "id": "4f8b3683",
   "metadata": {},
   "outputs": [
    {
     "name": "stdout",
     "output_type": "stream",
     "text": [
      "       pcd     ward   borough\n",
      "0  BR1 4BY  Downham  Lewisham\n",
      "1  BR1 4DN  Downham  Lewisham\n",
      "2  BR1 4EY  Downham  Lewisham\n",
      "3  BR1 4FD  Downham  Lewisham\n",
      "4  BR1 4JG  Downham  Lewisham\n"
     ]
    }
   ],
   "source": [
    "print(postcodes_df.head())"
   ]
  },
  {
   "cell_type": "code",
   "execution_count": 9,
   "id": "6b38479e",
   "metadata": {},
   "outputs": [
    {
     "name": "stdout",
     "output_type": "stream",
     "text": [
      "pcd        0\n",
      "ward       0\n",
      "borough    0\n",
      "dtype: int64\n"
     ]
    }
   ],
   "source": [
    "## find any nans \n",
    "print(postcodes_df.isna().sum())"
   ]
  },
  {
   "cell_type": "code",
   "execution_count": 14,
   "id": "9ffc28bb",
   "metadata": {},
   "outputs": [
    {
     "name": "stdout",
     "output_type": "stream",
     "text": [
      "0\n",
      "0\n"
     ]
    }
   ],
   "source": [
    "## find duplicates\n",
    "print(postcodes_df.duplicated().sum())\n",
    "print(postcodes_df['pcd'].duplicated().sum())\n"
   ]
  },
  {
   "cell_type": "code",
   "execution_count": 16,
   "id": "297063e9",
   "metadata": {},
   "outputs": [],
   "source": [
    "postcodes_df.to_csv(\"postcodes_lookup_clean.csv\",index=False)"
   ]
  }
 ],
 "metadata": {
  "kernelspec": {
   "display_name": ".venv",
   "language": "python",
   "name": "python3"
  },
  "language_info": {
   "codemirror_mode": {
    "name": "ipython",
    "version": 3
   },
   "file_extension": ".py",
   "mimetype": "text/x-python",
   "name": "python",
   "nbconvert_exporter": "python",
   "pygments_lexer": "ipython3",
   "version": "3.13.3"
  }
 },
 "nbformat": 4,
 "nbformat_minor": 5
}
